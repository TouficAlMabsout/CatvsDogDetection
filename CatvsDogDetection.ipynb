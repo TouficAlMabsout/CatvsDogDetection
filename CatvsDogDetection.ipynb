{
  "cells": [
    {
      "cell_type": "markdown",
      "metadata": {
        "id": "CzCojQEQrehd"
      },
      "source": [
        "# **Cat VS Dog Detection Models**\n",
        "\n",
        "---\n",
        "\n",
        "In this section, we are tasked with detecting whether an image contains a cat or a dog. The dataset contains 1156 images of cats and 799 images of dogs, all stored in two separate folders inside the `images` directory. Each image is properly labeled for classification purposes.\n",
        "\n",
        "We first use **HOG (Histogram of Oriented Gradients)** features to extract the key visual information from the images. These features capture important structural details, which can then be used to train machine learning models for classification.\n",
        "\n",
        "After extracting the HOG features, we apply three different machine learning models to detect whether an image contains a **cat** or not (i.e., if it’s a dog):\n",
        "1. **K-Nearest Neighbors (KNN)**\n",
        "2. **Linear Regression**\n",
        "3. **Logistic Regression**\n",
        "\n",
        "We will compare the performance of these models to determine which one is the most effective at classifying cats vs. dogs based on HOG feature extraction.\n",
        "\n",
        "Authors: Maya Ali, Toufic Al Mabsout\n"
      ]
    },
    {
      "cell_type": "markdown",
      "metadata": {
        "id": "NrtgHconFRK2"
      },
      "source": [
        "# HOG Feature Extraction and Visualization\n",
        "\n",
        "In this section, we will demonstrate how to extract Histogram of Oriented Gradients (HOG) features from an image and visualize both the original image and its HOG representation."
      ]
    },
    {
      "cell_type": "code",
      "execution_count": null,
      "metadata": {
        "colab": {
          "base_uri": "https://localhost:8080/",
          "height": 356
        },
        "id": "Yt2Ry4PQyNtJ",
        "outputId": "00b7317e-897c-4225-d7d1-6ca3dbc929bb"
      },
      "outputs": [],
      "source": [
        "from skimage.feature import hog\n",
        "from skimage import exposure\n",
        "from skimage.io import imread\n",
        "from skimage.transform import resize\n",
        "import matplotlib.pyplot as plt\n",
        "\n",
        "image = imread('/content/images/gato.jpeg')\n",
        "resized_image = resize(image, (128, 128))\n",
        "\n",
        "hog_features, hog_image = hog(resized_image, pixels_per_cell=(8, 8), cells_per_block=(2, 2),\n",
        "                              visualize=True, channel_axis=-1)\n",
        "\n",
        "hog_image_rescaled = exposure.rescale_intensity(hog_image, in_range=(0, 10))\n",
        "\n",
        "fig, (ax1, ax2) = plt.subplots(1, 2, figsize=(12, 6), sharex=True, sharey=True)\n",
        "\n",
        "ax1.imshow(resized_image, cmap=plt.cm.gray)\n",
        "ax1.set_title('Input image')\n",
        "\n",
        "ax2.imshow(hog_image_rescaled, cmap=plt.cm.gray)\n",
        "ax2.set_title('HOG features')\n",
        "plt.show()\n"
      ]
    },
    {
      "cell_type": "markdown",
      "metadata": {
        "id": "pied9NFHGZSY"
      },
      "source": [
        "#**Loading the Dataset and Applying HOG**\n"
      ]
    },
    {
      "cell_type": "code",
      "execution_count": null,
      "metadata": {
        "id": "R45-YBgUGpAJ"
      },
      "outputs": [],
      "source": [
        "import os\n",
        "import numpy as np\n",
        "from skimage.feature import hog\n",
        "from skimage.io import imread\n",
        "from skimage.transform import resize\n",
        "from sklearn.model_selection import train_test_split\n",
        "from sklearn.preprocessing import StandardScaler\n",
        "from sklearn.metrics import accuracy_score\n",
        "from sklearn.neighbors import KNeighborsClassifier\n",
        "from sklearn.linear_model import LogisticRegression\n",
        "from sklearn.linear_model import LinearRegression\n",
        "\n",
        "cat_folder = '/content/images/cat'\n",
        "dog_folder = '/content/images/dog'\n",
        "\n",
        "hog_features_list = []\n",
        "labels_list = []\n",
        "\n",
        "for image_file in os.listdir(cat_folder):\n",
        "    file_path = os.path.join(cat_folder, image_file)\n",
        "    try:\n",
        "        image = imread(file_path)\n",
        "        resized_image = resize(image, (128, 128))\n",
        "        hog_features = hog(resized_image, pixels_per_cell=(16, 16), cells_per_block=(2, 2), channel_axis=-1)\n",
        "        hog_features_list.append(hog_features)\n",
        "        labels_list.append(1)\n",
        "    except Exception as e:\n",
        "        print(f\"Error processing {file_path}: {e}\")\n",
        "\n",
        "for image_file in os.listdir(dog_folder):\n",
        "    file_path = os.path.join(dog_folder, image_file)\n",
        "    try:\n",
        "        image = imread(file_path)\n",
        "        resized_image = resize(image, (128, 128))\n",
        "        hog_features = hog(resized_image, pixels_per_cell=(16, 16), cells_per_block=(2, 2), channel_axis=-1)\n",
        "        hog_features_list.append(hog_features)\n",
        "        labels_list.append(0)\n",
        "    except Exception as e:\n",
        "        print(f\"Error processing {file_path}: {e}\")\n",
        "\n",
        "hog_features_array = np.array(hog_features_list)\n",
        "labels_array = np.array(labels_list)"
      ]
    },
    {
      "cell_type": "markdown",
      "metadata": {
        "id": "FqOk0ZFoHB4b"
      },
      "source": [
        "#**Split Data into Testing and Training**"
      ]
    },
    {
      "cell_type": "code",
      "execution_count": null,
      "metadata": {
        "id": "HPuv1HN5HHzH"
      },
      "outputs": [],
      "source": [
        "X_train, X_test, y_train, y_test = train_test_split(hog_features_array, labels_array, test_size=0.2, random_state=42)\n",
        "\n",
        "scaler = StandardScaler()\n",
        "X_train = scaler.fit_transform(X_train)\n",
        "X_test = scaler.transform(X_test)"
      ]
    },
    {
      "cell_type": "markdown",
      "metadata": {
        "id": "hmgvGPdxGva3"
      },
      "source": [
        "#**KNN Classification**"
      ]
    },
    {
      "cell_type": "code",
      "execution_count": null,
      "metadata": {
        "id": "A_xmInq4HNG0"
      },
      "outputs": [],
      "source": [
        "for k in range(3,104,2):\n",
        "  model = KNeighborsClassifier(n_neighbors=k)\n",
        "  model.fit(X_train, y_train)\n",
        "  y_pred = model.predict(X_test)\n",
        "  accuracy = accuracy_score(y_test, y_pred)\n",
        "  print(f\"KNN Accuracy for {k}_neighbors: {accuracy}\")\n"
      ]
    },
    {
      "cell_type": "markdown",
      "metadata": {
        "id": "XQFUPApnIldO"
      },
      "source": [
        "#**Logistic Regression**"
      ]
    },
    {
      "cell_type": "code",
      "execution_count": null,
      "metadata": {
        "id": "_Jy70m5vIudm"
      },
      "outputs": [],
      "source": [
        "model = LogisticRegression(max_iter=1000)\n",
        "model.fit(X_train, y_train)\n",
        "y_pred = model.predict(X_test)\n",
        "accuracy = accuracy_score(y_test, y_pred)\n",
        "print(f\"Logistic Regression Accuracy: {accuracy}\")"
      ]
    },
    {
      "cell_type": "markdown",
      "metadata": {
        "id": "DQgG6_3lJfhH"
      },
      "source": [
        "#**Linear Regression**"
      ]
    },
    {
      "cell_type": "code",
      "execution_count": null,
      "metadata": {
        "id": "PCN-70R5JgLN"
      },
      "outputs": [],
      "source": [
        "model = LinearRegression()\n",
        "model.fit(X_train, y_train)\n",
        "y_pred = model.predict(X_test)\n",
        "y_pred = np.where(y_pred >= 0.5, 1, 0)\n",
        "accuracy = accuracy_score(y_test, y_pred)\n",
        "print(f\"Linear Regression Accuracy: {accuracy}\")"
      ]
    }
  ],
  "metadata": {
    "colab": {
      "provenance": []
    },
    "kernelspec": {
      "display_name": "Python 3",
      "name": "python3"
    },
    "language_info": {
      "name": "python"
    }
  },
  "nbformat": 4,
  "nbformat_minor": 0
}
